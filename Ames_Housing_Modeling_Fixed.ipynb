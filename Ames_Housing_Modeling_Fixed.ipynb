{
 "cells": [
  {
   "cell_type": "markdown",
   "id": "0bd03b40",
   "metadata": {
    "colab_type": "text",
    "id": "view-in-github"
   },
   "source": [
    "# Predictive Modeling of Ames Housing Data\n",
    "This notebook demonstrates data preprocessing, modeling, and interpretation for the Ames Housing dataset."
   ]
  },
  {
   "cell_type": "code",
   "execution_count": 1,
   "id": "4bfa83b2",
   "metadata": {},
   "outputs": [],
   "source": [
    "import pandas as pd\n",
    "import numpy as np\n",
    "from sklearn.model_selection import train_test_split, cross_val_score\n",
    "from sklearn.preprocessing import StandardScaler, OneHotEncoder\n",
    "from sklearn.compose import ColumnTransformer\n",
    "from sklearn.pipeline import Pipeline\n",
    "from sklearn.linear_model import LinearRegression, Ridge, Lasso\n",
    "from sklearn.metrics import mean_squared_error"
   ]
  },
  {
   "cell_type": "code",
   "execution_count": 2,
   "id": "f6fa5898",
   "metadata": {},
   "outputs": [],
   "source": [
    "# Simulate simplified data similar to Ames Housing dataset\n",
    "data = {\n",
    "    'MSSubClass': [60, 20, 70, 60, 50], 'LotFrontage': [65.0, 80.0, 68.0, 60.0, 84.0],\n",
    "    'LotArea': [8450, 9600, 11250, 9550, 14260], 'OverallQual': [7, 6, 7, 7, 8],\n",
    "    'OverallCond': [5, 8, 5, 5, 5], 'YearBuilt': [2003, 1976, 2001, 1915, 2000],\n",
    "    'YearRemodAdd': [2003, 1976, 2002, 1970, 2000], 'TotalBsmtSF': [856, 1262, 920, 756, 1145],\n",
    "    '1stFlrSF': [856, 1262, 920, 961, 1145], '2ndFlrSF': [854, 0, 866, 756, 1053],\n",
    "    'GrLivArea': [1710, 1262, 1786, 1717, 2198], 'FullBath': [2, 2, 2, 1, 2],\n",
    "    'HalfBath': [1, 0, 1, 0, 1], 'TotRmsAbvGrd': [8, 6, 6, 7, 9], 'GarageCars': [2, 2, 2, 3, 3],\n",
    "    'GarageArea': [548, 460, 608, 642, 836], 'YrSold': [2008, 2007, 2008, 2006, 2008],\n",
    "    'Neighborhood': ['CollgCr', 'Veenker', 'CollgCr', 'Crawfor', 'NridgHt'],\n",
    "    'Alley': [np.nan, np.nan, np.nan, np.nan, np.nan], 'SalePrice': [208500, 181500, 223500, 140000, 250000]\n",
    "}"
   ]
  },
  {
   "cell_type": "code",
   "execution_count": 3,
   "id": "22482a7a",
   "metadata": {},
   "outputs": [
    {
     "name": "stdout",
     "output_type": "stream",
     "text": [
      "--- Initial Data Summary ---\n",
      "Dataset shape: (200, 9)\n",
      "Columns with missing values:\n",
      "LotFrontage    20\n",
      "dtype: int64\n"
     ]
    }
   ],
   "source": [
    "np.random.seed(42)\n",
    "n_samples = 200\n",
    "full_data = {\n",
    "    'OverallQual': np.random.randint(3, 11, n_samples),\n",
    "    'GrLivArea': np.random.randint(1000, 2500, n_samples),\n",
    "    'TotalBsmtSF': np.random.randint(500, 2000, n_samples),\n",
    "    'GarageCars': np.random.randint(0, 4, n_samples),\n",
    "    'YearBuilt': np.random.randint(1950, 2010, n_samples),\n",
    "    'YrSold': np.random.randint(2006, 2011, n_samples),\n",
    "    'LotFrontage': np.random.uniform(50, 100, n_samples),\n",
    "    'Neighborhood': np.random.choice(['CollgCr', 'Veenker', 'Crawfor', 'NridgHt', 'OldTown'], n_samples),\n",
    "    'SalePrice': np.random.randint(100000, 400000, n_samples)\n",
    "}\n",
    "df = pd.DataFrame(full_data)\n",
    "df.loc[df.index[::10], 'LotFrontage'] = np.nan\n",
    "\n",
    "print(\"--- Initial Data Summary ---\")\n",
    "print(f\"Dataset shape: {df.shape}\")\n",
    "print(\"Columns with missing values:\")\n",
    "print(df.isnull().sum()[df.isnull().sum() > 0])"
   ]
  },
  {
   "cell_type": "code",
   "execution_count": 4,
   "id": "73bb5dd4",
   "metadata": {},
   "outputs": [],
   "source": [
    "# Target transformation\n",
    "df['SalePrice'] = np.log1p(df['SalePrice'])\n",
    "\n",
    "# Impute LotFrontage by Neighborhood median and fallback to global median\n",
    "df['LotFrontage'] = df.groupby('Neighborhood')['LotFrontage'].transform(lambda x: x.fillna(x.median()))\n",
    "df['LotFrontage'] = df['LotFrontage'].fillna(df['LotFrontage'].median())\n",
    "\n",
    "# Feature engineering: HouseAge\n",
    "df['HouseAge'] = df['YrSold'] - df['YearBuilt']"
   ]
  },
  {
   "cell_type": "code",
   "execution_count": 5,
   "id": "0c706c99",
   "metadata": {},
   "outputs": [],
   "source": [
    "# Preprocessing pipeline\n",
    "features = ['OverallQual', 'GrLivArea', 'TotalBsmtSF', 'GarageCars', 'HouseAge', 'LotFrontage', 'Neighborhood']\n",
    "X = df[features]\n",
    "y = df['SalePrice']\n",
    "\n",
    "categorical_features = ['Neighborhood']\n",
    "numerical_features = ['OverallQual', 'GrLivArea', 'TotalBsmtSF', 'GarageCars', 'HouseAge', 'LotFrontage']\n",
    "\n",
    "preprocessor = ColumnTransformer(transformers=[\n",
    "    ('num', StandardScaler(), numerical_features),\n",
    "    ('cat', OneHotEncoder(handle_unknown='ignore'), categorical_features)\n",
    "])"
   ]
  },
  {
   "cell_type": "code",
   "execution_count": 6,
   "id": "2fb72287",
   "metadata": {},
   "outputs": [
    {
     "name": "stdout",
     "output_type": "stream",
     "text": [
      "--- Model Comparison using Cross-Validation ---\n",
      "Model: Linear Regression\n",
      "  Average R-squared: -0.2125 (+/- 0.0412)\n",
      "  Average RMSE: 0.3923 (+/- 0.0317)\n",
      "------------------------------\n",
      "Model: Ridge\n",
      "  Average R-squared: -0.1870 (+/- 0.0475)\n",
      "  Average RMSE: 0.3881 (+/- 0.0315)\n",
      "------------------------------\n",
      "Model: Lasso\n",
      "  Average R-squared: -0.1692 (+/- 0.0579)\n",
      "  Average RMSE: 0.3851 (+/- 0.0316)\n",
      "------------------------------\n"
     ]
    }
   ],
   "source": [
    "# Model training and comparison\n",
    "models = {\n",
    "    'Linear Regression': LinearRegression(),\n",
    "    'Ridge': Ridge(alpha=10),\n",
    "    'Lasso': Lasso(alpha=0.01)\n",
    "}\n",
    "\n",
    "print(\"--- Model Comparison using Cross-Validation ---\")\n",
    "for name, model in models.items():\n",
    "    pipeline = Pipeline(steps=[('preprocessor', preprocessor), ('regressor', model)])\n",
    "    r2_scores = cross_val_score(pipeline, X, y, cv=5, scoring='r2')\n",
    "    rmse_scores = -cross_val_score(pipeline, X, y, cv=5, scoring='neg_root_mean_squared_error')\n",
    "    print(f\"Model: {name}\")\n",
    "    print(f\"  Average R-squared: {np.mean(r2_scores):.4f} (+/- {np.std(r2_scores):.4f})\")\n",
    "    print(f\"  Average RMSE: {np.mean(rmse_scores):.4f} (+/- {np.std(rmse_scores):.4f})\")\n",
    "    print(\"-\" * 30)"
   ]
  },
  {
   "cell_type": "code",
   "execution_count": 7,
   "id": "39376ef0",
   "metadata": {},
   "outputs": [
    {
     "name": "stdout",
     "output_type": "stream",
     "text": [
      "--- Key Findings from Final Ridge Model ---\n",
      "Top 10 Most Impactful Features:\n",
      "                      Coefficient\n",
      "Neighborhood_Veenker     0.082260\n",
      "Neighborhood_Crawfor    -0.073230\n",
      "HouseAge                -0.041434\n",
      "Neighborhood_NridgHt    -0.035750\n",
      "Neighborhood_OldTown     0.033359\n",
      "GrLivArea               -0.022691\n",
      "OverallQual              0.011818\n",
      "TotalBsmtSF             -0.009934\n",
      "GarageCars               0.007621\n",
      "Neighborhood_CollgCr    -0.006639\n"
     ]
    }
   ],
   "source": [
    "# Final model interpretation\n",
    "print(\"--- Key Findings from Final Ridge Model ---\")\n",
    "final_pipeline = Pipeline(steps=[('preprocessor', preprocessor), ('regressor', Ridge(alpha=10))])\n",
    "final_pipeline.fit(X, y)\n",
    "\n",
    "cat_feature_names = final_pipeline.named_steps['preprocessor'].named_transformers_['cat'].get_feature_names_out(categorical_features)\n",
    "all_feature_names = numerical_features + list(cat_feature_names)\n",
    "coefficients = final_pipeline.named_steps['regressor'].coef_\n",
    "\n",
    "coef_df = pd.DataFrame(coefficients, index=all_feature_names, columns=['Coefficient'])\n",
    "coef_df['Abs_Coefficient'] = coef_df['Coefficient'].abs()\n",
    "sorted_coef_df = coef_df.sort_values(by='Abs_Coefficient', ascending=False)\n",
    "\n",
    "print(\"Top 10 Most Impactful Features:\")\n",
    "print(sorted_coef_df.drop('Abs_Coefficient', axis=1).head(10))"
   ]
  }
 ],
 "metadata": {
  "colab": {
   "provenance": []
  },
  "kernelspec": {
   "display_name": "spector",
   "language": "python",
   "name": "python3"
  },
  "language_info": {
   "codemirror_mode": {
    "name": "ipython",
    "version": 3
   },
   "file_extension": ".py",
   "mimetype": "text/x-python",
   "name": "python",
   "nbconvert_exporter": "python",
   "pygments_lexer": "ipython3",
   "version": "3.11.11"
  }
 },
 "nbformat": 4,
 "nbformat_minor": 5
}
